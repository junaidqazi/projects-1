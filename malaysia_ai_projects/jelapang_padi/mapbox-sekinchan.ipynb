{
 "cells": [
  {
   "cell_type": "code",
   "execution_count": 3,
   "id": "df0aa7d6",
   "metadata": {},
   "outputs": [],
   "source": [
    "import shutil\n",
    "import requests\n",
    "import numpy as np\n",
    "import os\n",
    "from tqdm import tqdm\n",
    "\n",
    "folder = 'sekinchan'\n",
    "os.makedirs(folder, exist_ok=True)"
   ]
  },
  {
   "cell_type": "code",
   "execution_count": 7,
   "id": "9374dad5",
   "metadata": {},
   "outputs": [],
   "source": [
    "# https://wiki.openstreetmap.org/wiki/Slippy_map_tilenames#Tile_numbers_to_lon..2Flat.\n",
    "\n",
    "import math\n",
    "\n",
    "def deg2num(lat_deg, lon_deg, zoom):\n",
    "    lat_rad = math.radians(lat_deg)\n",
    "    n = 2.0 ** zoom\n",
    "    xtile = int((lon_deg + 180.0) / 360.0 * n)\n",
    "    ytile = int((1.0 - math.asinh(math.tan(lat_rad)) / math.pi) / 2.0 * n)\n",
    "    return (xtile, ytile)\n",
    "\n",
    "def num2deg(xtile, ytile, zoom):\n",
    "    n = 2.0 ** zoom\n",
    "    lon_deg = xtile / n * 360.0 - 180.0\n",
    "    lat_rad = math.atan(math.sinh(math.pi * (1 - 2 * ytile / n)))\n",
    "    lat_deg = math.degrees(lat_rad)\n",
    "    return (lat_deg, lon_deg)\n",
    "\n",
    "def download_img(lat, lon, zoom = 14, output_name = 'img.png'):\n",
    "    x, y = deg2num(lat, lon, zoom)\n",
    "    url = f'https://api.mapbox.com/styles/v1/mapbox/satellite-v9/tiles/{zoom}/{x}/{y}@2x?title=true&access_token=pk.eyJ1IjoibWFwYm94IiwiYSI6ImNpejY4NXVycTA2emYycXBndHRqcmZ3N3gifQ.rJcFIG214AriISLbB6B5aw'\n",
    "    response = requests.get(url, stream=True)\n",
    "    with open(output_name, 'wb') as out_file:\n",
    "        shutil.copyfileobj(response.raw, out_file)"
   ]
  },
  {
   "cell_type": "code",
   "execution_count": 5,
   "id": "e292eeca",
   "metadata": {},
   "outputs": [],
   "source": [
    "# download_img(3.692577, 100.999845)"
   ]
  },
  {
   "cell_type": "code",
   "execution_count": 9,
   "id": "0a6e4fab",
   "metadata": {},
   "outputs": [
    {
     "name": "stderr",
     "output_type": "stream",
     "text": [
      "4400it [49:30,  1.48it/s]\n",
      "1935it [15:02,  2.14it/s]\n"
     ]
    }
   ],
   "source": [
    "# top left, top right, bottom left, bottom right\n",
    "boundaries = [[(3.889538, 100.665019), (3.895019, 101.319144), (3.294703, 100.818932), (3.363252, 101.525275)],\n",
    "           [(4.128441, 101.081405), (4.155835, 101.455190), (3.681789, 100.957727), (3.679048, 101.408467)]]\n",
    "\n",
    "resolution = 0.01\n",
    "zoom = 15\n",
    "\n",
    "for no, boundary in enumerate(boundaries):\n",
    "    uniques = {}\n",
    "    boundary = np.array(boundary)\n",
    "    latmin = np.min(boundary[:,0])\n",
    "    lonmin = np.min(boundary[:,1])\n",
    "    latmax = np.max(boundary[:,0])\n",
    "    lonmax = np.max(boundary[:,1])\n",
    "    \n",
    "    lat_arange = np.arange(latmin, latmax, resolution)\n",
    "    lon_arange = np.arange(lonmin, lonmax, resolution)\n",
    "    x, y = np.meshgrid(lat_arange, lon_arange)\n",
    "    x = np.round(x, 10)\n",
    "    y = np.round(y, 10)\n",
    "    x = np.reshape(x, (-1, 1))\n",
    "    y = np.reshape(y, (-1, 1))\n",
    "    concated = np.concatenate([x, y], axis = 1)\n",
    "    for c in concated:\n",
    "        d = deg2num(c[0], c[1], zoom = zoom)\n",
    "        uniques[str(d)] = (c[0], c[1])\n",
    "        \n",
    "    \n",
    "    for no_, v in tqdm(enumerate(list(uniques.values()))):\n",
    "        output_name = os.path.join(folder, f'{no}-{no_}.png')\n",
    "        download_img(v[0], v[1], output_name = output_name, zoom = zoom)"
   ]
  },
  {
   "cell_type": "code",
   "execution_count": 10,
   "id": "792b93ce",
   "metadata": {},
   "outputs": [
    {
     "name": "stdout",
     "output_type": "stream",
     "text": [
      "1.1G\tsekinchan\r\n"
     ]
    }
   ],
   "source": [
    "!du -hs sekinchan"
   ]
  },
  {
   "cell_type": "code",
   "execution_count": 11,
   "id": "4d399ca7",
   "metadata": {},
   "outputs": [],
   "source": [
    "!tar -zcf sekinchan-raw.tar.gz sekinchan"
   ]
  }
 ],
 "metadata": {
  "kernelspec": {
   "display_name": "Python 3 (ipykernel)",
   "language": "python",
   "name": "python3"
  },
  "language_info": {
   "codemirror_mode": {
    "name": "ipython",
    "version": 3
   },
   "file_extension": ".py",
   "mimetype": "text/x-python",
   "name": "python",
   "nbconvert_exporter": "python",
   "pygments_lexer": "ipython3",
   "version": "3.8.10"
  }
 },
 "nbformat": 4,
 "nbformat_minor": 5
}
