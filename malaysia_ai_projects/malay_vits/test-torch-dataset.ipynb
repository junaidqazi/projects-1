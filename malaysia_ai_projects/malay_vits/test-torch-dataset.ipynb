{
 "cells": [
  {
   "cell_type": "code",
   "execution_count": 1,
   "metadata": {},
   "outputs": [
    {
     "name": "stderr",
     "output_type": "stream",
     "text": [
      "/home/husein/tf2/lib/python3.6/site-packages/tqdm/auto.py:22: TqdmWarning: IProgress not found. Please update jupyter and ipywidgets. See https://ipywidgets.readthedocs.io/en/stable/user_install.html\n",
      "  from .autonotebook import tqdm as notebook_tqdm\n"
     ]
    }
   ],
   "source": [
    "import utils\n",
    "import json\n",
    "from data_utils import TextAudioLoader, TextAudioCollate, DistributedBucketSampler\n",
    "import torch"
   ]
  },
  {
   "cell_type": "code",
   "execution_count": 2,
   "metadata": {},
   "outputs": [
    {
     "data": {
      "text/plain": [
       "('/home/husein/speech-bahasa/vits-test-set.txt',\n",
       " {'training_files': '/home/husein/speech-bahasa/vits-train-set.txt', 'validation_files': '/home/husein/speech-bahasa/vits-test-set.txt', 'text_cleaners': [''], 'max_wav_value': 32768.0, 'sampling_rate': 22050, 'filter_length': 1024, 'hop_length': 256, 'win_length': 1024, 'n_mel_channels': 80, 'mel_fmin': 0.0, 'mel_fmax': None, 'add_blank': True, 'n_speakers': 0, 'cleaned_text': True})"
      ]
     },
     "execution_count": 2,
     "metadata": {},
     "output_type": "execute_result"
    }
   ],
   "source": [
    "with open('config/base.json') as fopen:\n",
    "    config = json.load(fopen)\n",
    "\n",
    "hps = utils.HParams(**config)\n",
    "hps.data.validation_files, hps.data"
   ]
  },
  {
   "cell_type": "code",
   "execution_count": 3,
   "metadata": {},
   "outputs": [],
   "source": [
    "train_dataset = TextAudioLoader(hps.data.validation_files, hps.data)"
   ]
  },
  {
   "cell_type": "code",
   "execution_count": 4,
   "metadata": {},
   "outputs": [
    {
     "data": {
      "text/plain": [
       "1974"
      ]
     },
     "execution_count": 4,
     "metadata": {},
     "output_type": "execute_result"
    }
   ],
   "source": [
    "len(train_dataset)"
   ]
  },
  {
   "cell_type": "code",
   "execution_count": 5,
   "metadata": {},
   "outputs": [],
   "source": [
    "text, spec, wav = train_dataset[0]"
   ]
  },
  {
   "cell_type": "code",
   "execution_count": 6,
   "metadata": {},
   "outputs": [
    {
     "data": {
      "text/plain": [
       "(torch.Size([217]), torch.Size([513, 615]), torch.Size([1, 157552]))"
      ]
     },
     "execution_count": 6,
     "metadata": {},
     "output_type": "execute_result"
    }
   ],
   "source": [
    "text.shape, spec.shape, wav.shape"
   ]
  },
  {
   "cell_type": "code",
   "execution_count": 7,
   "metadata": {},
   "outputs": [],
   "source": [
    "collate = TextAudioCollate()"
   ]
  },
  {
   "cell_type": "code",
   "execution_count": 8,
   "metadata": {},
   "outputs": [],
   "source": [
    "batch = [train_dataset[i] for i in range(5)]"
   ]
  },
  {
   "cell_type": "code",
   "execution_count": 9,
   "metadata": {},
   "outputs": [
    {
     "data": {
      "text/plain": [
       "(tensor([[ 0, 14,  0,  ...,  0,  9,  0],\n",
       "         [ 0, 24,  0,  ...,  0,  0,  0],\n",
       "         [ 0, 20,  0,  ...,  0,  0,  0],\n",
       "         [ 0, 29,  0,  ...,  0,  0,  0],\n",
       "         [ 0, 33,  0,  ...,  0,  0,  0]]),\n",
       " tensor([297, 219, 217, 209, 117]),\n",
       " tensor([[[0.0088, 0.0079, 0.0111,  ..., 0.0151, 0.0134, 0.0125],\n",
       "          [0.0054, 0.0027, 0.0067,  ..., 0.0076, 0.0067, 0.0061],\n",
       "          [0.0025, 0.0025, 0.0016,  ..., 0.0010, 0.0012, 0.0011],\n",
       "          ...,\n",
       "          [0.0011, 0.0010, 0.0011,  ..., 0.0011, 0.0010, 0.0010],\n",
       "          [0.0011, 0.0011, 0.0011,  ..., 0.0012, 0.0012, 0.0012],\n",
       "          [0.0012, 0.0010, 0.0011,  ..., 0.0010, 0.0011, 0.0014]],\n",
       " \n",
       "         [[0.0103, 0.0156, 0.0216,  ..., 0.0000, 0.0000, 0.0000],\n",
       "          [0.0048, 0.0077, 0.0144,  ..., 0.0000, 0.0000, 0.0000],\n",
       "          [0.0013, 0.0040, 0.0057,  ..., 0.0000, 0.0000, 0.0000],\n",
       "          ...,\n",
       "          [0.0010, 0.0010, 0.0010,  ..., 0.0000, 0.0000, 0.0000],\n",
       "          [0.0010, 0.0010, 0.0010,  ..., 0.0000, 0.0000, 0.0000],\n",
       "          [0.0010, 0.0010, 0.0011,  ..., 0.0000, 0.0000, 0.0000]],\n",
       " \n",
       "         [[0.0111, 0.0112, 0.0194,  ..., 0.0000, 0.0000, 0.0000],\n",
       "          [0.0066, 0.0035, 0.0123,  ..., 0.0000, 0.0000, 0.0000],\n",
       "          [0.0021, 0.0031, 0.0032,  ..., 0.0000, 0.0000, 0.0000],\n",
       "          ...,\n",
       "          [0.0011, 0.0010, 0.0010,  ..., 0.0000, 0.0000, 0.0000],\n",
       "          [0.0011, 0.0010, 0.0010,  ..., 0.0000, 0.0000, 0.0000],\n",
       "          [0.0010, 0.0010, 0.0010,  ..., 0.0000, 0.0000, 0.0000]],\n",
       " \n",
       "         [[0.0094, 0.0108, 0.0187,  ..., 0.0000, 0.0000, 0.0000],\n",
       "          [0.0049, 0.0043, 0.0110,  ..., 0.0000, 0.0000, 0.0000],\n",
       "          [0.0014, 0.0015, 0.0032,  ..., 0.0000, 0.0000, 0.0000],\n",
       "          ...,\n",
       "          [0.0010, 0.0011, 0.0012,  ..., 0.0000, 0.0000, 0.0000],\n",
       "          [0.0010, 0.0010, 0.0011,  ..., 0.0000, 0.0000, 0.0000],\n",
       "          [0.0010, 0.0010, 0.0011,  ..., 0.0000, 0.0000, 0.0000]],\n",
       " \n",
       "         [[0.0112, 0.0167, 0.0210,  ..., 0.0000, 0.0000, 0.0000],\n",
       "          [0.0048, 0.0091, 0.0129,  ..., 0.0000, 0.0000, 0.0000],\n",
       "          [0.0015, 0.0025, 0.0057,  ..., 0.0000, 0.0000, 0.0000],\n",
       "          ...,\n",
       "          [0.0011, 0.0011, 0.0012,  ..., 0.0000, 0.0000, 0.0000],\n",
       "          [0.0010, 0.0011, 0.0011,  ..., 0.0000, 0.0000, 0.0000],\n",
       "          [0.0010, 0.0010, 0.0011,  ..., 0.0000, 0.0000, 0.0000]]]),\n",
       " tensor([806, 695, 615, 537, 297]),\n",
       " tensor([[[-6.1035e-05, -6.1035e-05, -6.1035e-05,  ...,  0.0000e+00,\n",
       "            0.0000e+00,  0.0000e+00]],\n",
       " \n",
       "         [[ 0.0000e+00,  0.0000e+00,  0.0000e+00,  ...,  0.0000e+00,\n",
       "            0.0000e+00,  0.0000e+00]],\n",
       " \n",
       "         [[ 3.0518e-05,  3.0518e-05, -3.0518e-05,  ...,  0.0000e+00,\n",
       "            0.0000e+00,  0.0000e+00]],\n",
       " \n",
       "         [[ 0.0000e+00,  0.0000e+00, -3.0518e-05,  ...,  0.0000e+00,\n",
       "            0.0000e+00,  0.0000e+00]],\n",
       " \n",
       "         [[ 0.0000e+00,  0.0000e+00,  0.0000e+00,  ...,  0.0000e+00,\n",
       "            0.0000e+00,  0.0000e+00]]]),\n",
       " tensor([206458, 178039, 157552, 137714,  76237]))"
      ]
     },
     "execution_count": 9,
     "metadata": {},
     "output_type": "execute_result"
    }
   ],
   "source": [
    "collate(batch)"
   ]
  },
  {
   "cell_type": "code",
   "execution_count": 15,
   "metadata": {},
   "outputs": [],
   "source": [
    "train_sampler = DistributedBucketSampler(\n",
    "        train_dataset,\n",
    "        4,\n",
    "        [32, 300, 400, 500, 600, 700, 800, 900, 1000],\n",
    "        shuffle=True, num_replicas = 1, rank = 0)"
   ]
  },
  {
   "cell_type": "code",
   "execution_count": 25,
   "metadata": {},
   "outputs": [],
   "source": [
    "iterator = iter(train_sampler)"
   ]
  },
  {
   "cell_type": "code",
   "execution_count": 24,
   "metadata": {},
   "outputs": [
    {
     "data": {
      "text/plain": [
       "495"
      ]
     },
     "execution_count": 24,
     "metadata": {},
     "output_type": "execute_result"
    }
   ],
   "source": [
    "len(train_sampler)"
   ]
  },
  {
   "cell_type": "code",
   "execution_count": 29,
   "metadata": {},
   "outputs": [
    {
     "name": "stderr",
     "output_type": "stream",
     "text": [
      "/home/husein/tf2/lib/python3.6/site-packages/torch/functional.py:573: UserWarning: stft will soon require the return_complex parameter be given for real inputs, and will further require that return_complex=True in a future PyTorch release. (Triggered internally at  ../aten/src/ATen/native/SpectralOps.cpp:659.)\n",
      "  normalized, onesided, return_complex)\n"
     ]
    },
    {
     "data": {
      "text/plain": [
       "[(tensor([ 0, 29,  0, 44,  0, 53,  0, 64,  0, 40,  0, 50,  0, 48,  0, 59,  0, 13,\n",
       "           0, 48,  0, 53,  0, 48,  0, 13,  0, 43,  0, 48,  0, 50,  0, 54,  0, 53,\n",
       "           0, 45,  0, 48,  0, 57,  0, 52,  0, 40,  0, 58,  0, 48,  0, 13,  0, 59,\n",
       "           0, 44,  0, 51,  0, 40,  0, 47,  0, 13,  0, 58,  0, 40,  0, 52,  0, 55,\n",
       "           0, 40,  0, 48,  0, 13,  0, 43,  0, 48,  0, 13,  0, 32,  0, 48,  0, 53,\n",
       "           0, 46,  0, 40,  0, 55,  0, 60,  0, 57,  0, 40,  0, 13,  0,  9,  0]),\n",
       "  tensor([[0.0112, 0.0111, 0.0209,  ..., 0.0162, 0.0129, 0.0114],\n",
       "          [0.0069, 0.0027, 0.0147,  ..., 0.0099, 0.0056, 0.0058],\n",
       "          [0.0018, 0.0043, 0.0054,  ..., 0.0046, 0.0023, 0.0018],\n",
       "          ...,\n",
       "          [0.0011, 0.0010, 0.0010,  ..., 0.0012, 0.0010, 0.0010],\n",
       "          [0.0011, 0.0011, 0.0010,  ..., 0.0017, 0.0011, 0.0011],\n",
       "          [0.0014, 0.0012, 0.0010,  ..., 0.0018, 0.0010, 0.0012]]),\n",
       "  tensor([[-3.0518e-05, -3.0518e-05, -6.1035e-05,  ...,  0.0000e+00,\n",
       "            0.0000e+00, -6.1035e-05]])),\n",
       " (tensor([ 0, 24,  0, 48,  0, 59,  0, 40,  0, 13,  0, 41,  0, 54,  0, 51,  0, 44,\n",
       "           0, 47,  0, 13,  0, 52,  0, 44,  0, 53,  0, 46,  0, 46,  0, 40,  0, 51,\n",
       "           0, 40,  0, 50,  0, 50,  0, 40,  0, 53,  0, 13,  0, 57,  0, 40,  0, 50,\n",
       "           0, 64,  0, 40,  0, 59,  0, 13,  0, 26,  0, 40,  0, 51,  0, 40,  0, 64,\n",
       "           0, 58,  0, 48,  0, 40,  0, 13,  0, 52,  0, 44,  0, 51,  0, 40,  0, 53,\n",
       "           0, 42,  0, 54,  0, 53,  0, 46,  0, 13,  0, 43,  0, 48,  0, 13,  0, 43,\n",
       "           0, 40,  0, 51,  0, 40,  0, 52,  0, 13,  0, 53,  0, 44,  0, 46,  0, 40,\n",
       "           0, 57,  0, 40,  0, 13,  0, 13,  0,  9,  0]),\n",
       "  tensor([[0.0080, 0.0081, 0.0119,  ..., 0.0205, 0.0192, 0.0165],\n",
       "          [0.0045, 0.0030, 0.0073,  ..., 0.0104, 0.0101, 0.0090],\n",
       "          [0.0016, 0.0013, 0.0032,  ..., 0.0027, 0.0012, 0.0017],\n",
       "          ...,\n",
       "          [0.0010, 0.0010, 0.0011,  ..., 0.0018, 0.0014, 0.0012],\n",
       "          [0.0010, 0.0010, 0.0011,  ..., 0.0012, 0.0010, 0.0011],\n",
       "          [0.0010, 0.0010, 0.0010,  ..., 0.0011, 0.0010, 0.0010]]),\n",
       "  tensor([[ 0.0000e+00,  0.0000e+00, -3.0518e-05,  ..., -3.0518e-05,\n",
       "           -3.0518e-05, -6.1035e-05]])),\n",
       " (tensor([ 0, 23,  0, 40,  0, 53,  0, 49,  0, 48,  0, 40,  0, 53,  0, 13,  0, 40,\n",
       "           0, 53,  0, 59,  0, 40,  0, 47,  0, 13,  0, 59,  0, 48,  0, 43,  0, 40,\n",
       "           0, 50,  0, 13,  0, 42,  0, 44,  0, 57,  0, 60,  0, 47,  0, 13,  0,  9,\n",
       "           0]),\n",
       "  tensor([[0.0111, 0.0096, 0.0159,  ..., 0.0269, 0.0244, 0.0213],\n",
       "          [0.0068, 0.0028, 0.0096,  ..., 0.0097, 0.0156, 0.0111],\n",
       "          [0.0023, 0.0023, 0.0030,  ..., 0.0079, 0.0056, 0.0068],\n",
       "          ...,\n",
       "          [0.0011, 0.0011, 0.0012,  ..., 0.0017, 0.0014, 0.0014],\n",
       "          [0.0013, 0.0010, 0.0010,  ..., 0.0021, 0.0018, 0.0014],\n",
       "          [0.0015, 0.0011, 0.0010,  ..., 0.0010, 0.0017, 0.0010]]),\n",
       "  tensor([[-3.0518e-05, -3.0518e-05, -6.1035e-05,  ..., -9.1553e-05,\n",
       "           -6.1035e-05,  0.0000e+00]])),\n",
       " (tensor([ 0, 29,  0, 44,  0, 52,  0, 48,  0, 51,  0, 48,  0, 47,  0, 40,  0, 53,\n",
       "           0, 13,  0, 41,  0, 44,  0, 57,  0, 51,  0, 40,  0, 53,  0, 46,  0, 58,\n",
       "           0, 60,  0, 53,  0, 46,  0, 13,  0, 50,  0, 48,  0, 57,  0, 40,  0, 13,\n",
       "           0,  3,  0, 13,  0, 50,  0, 48,  0, 57,  0, 40,  0, 13,  0, 58,  0, 44,\n",
       "           0, 59,  0, 48,  0, 40,  0, 55,  0, 13,  0, 44,  0, 52,  0, 55,  0, 40,\n",
       "           0, 59,  0, 13,  0, 59,  0, 40,  0, 47,  0, 60,  0, 53,  0, 13,  0,  9,\n",
       "           0]),\n",
       "  tensor([[0.0119, 0.0144, 0.0244,  ..., 0.0192, 0.0129, 0.0120],\n",
       "          [0.0061, 0.0056, 0.0154,  ..., 0.0109, 0.0055, 0.0065],\n",
       "          [0.0010, 0.0023, 0.0046,  ..., 0.0053, 0.0011, 0.0014],\n",
       "          ...,\n",
       "          [0.0010, 0.0011, 0.0011,  ..., 0.0010, 0.0010, 0.0010],\n",
       "          [0.0010, 0.0010, 0.0010,  ..., 0.0010, 0.0011, 0.0011],\n",
       "          [0.0010, 0.0010, 0.0010,  ..., 0.0010, 0.0011, 0.0012]]),\n",
       "  tensor([[-3.0518e-05, -3.0518e-05, -6.1035e-05,  ...,  0.0000e+00,\n",
       "            0.0000e+00,  0.0000e+00]]))]"
      ]
     },
     "execution_count": 29,
     "metadata": {},
     "output_type": "execute_result"
    }
   ],
   "source": [
    "batch = [train_dataset[i] for i in next(iterator)]\n",
    "batch"
   ]
  }
 ],
 "metadata": {
  "kernelspec": {
   "display_name": "tf2",
   "language": "python",
   "name": "tf2"
  },
  "language_info": {
   "codemirror_mode": {
    "name": "ipython",
    "version": 3
   },
   "file_extension": ".py",
   "mimetype": "text/x-python",
   "name": "python",
   "nbconvert_exporter": "python",
   "pygments_lexer": "ipython3",
   "version": "3.6.9"
  }
 },
 "nbformat": 4,
 "nbformat_minor": 2
}
