{
 "cells": [
  {
   "cell_type": "code",
   "execution_count": 1,
   "metadata": {},
   "outputs": [],
   "source": [
    "from glob import glob\n",
    "import os"
   ]
  },
  {
   "cell_type": "code",
   "execution_count": 16,
   "metadata": {},
   "outputs": [],
   "source": [
    "path = 'logs/yasmin'\n",
    "maximum_files = 3"
   ]
  },
  {
   "cell_type": "code",
   "execution_count": 17,
   "metadata": {},
   "outputs": [
    {
     "name": "stdout",
     "output_type": "stream",
     "text": [
      "rm logs/yasmin/D_0.pth logs/yasmin/G_0.pth\n",
      "rm logs/yasmin/D_1000.pth logs/yasmin/G_1000.pth\n",
      "rm logs/yasmin/D_2000.pth logs/yasmin/G_2000.pth\n",
      "rm logs/yasmin/D_3000.pth logs/yasmin/G_3000.pth\n",
      "rm logs/yasmin/D_4000.pth logs/yasmin/G_4000.pth\n",
      "rm logs/yasmin/D_5000.pth logs/yasmin/G_5000.pth\n",
      "rm logs/yasmin/D_6000.pth logs/yasmin/G_6000.pth\n",
      "rm logs/yasmin/D_7000.pth logs/yasmin/G_7000.pth\n",
      "rm logs/yasmin/D_8000.pth logs/yasmin/G_8000.pth\n"
     ]
    }
   ],
   "source": [
    "files = glob(os.path.join(path, 'D_*.pth'))\n",
    "files = sorted(files, key = lambda x: int(os.path.split(x)[1].split('_')[1].replace('.pth', '')))\n",
    "for f in files[:-maximum_files]:\n",
    "    cmd = f\"rm {f} {f.replace('D', 'G')}\"\n",
    "    print(cmd)\n",
    "    os.system(cmd)"
   ]
  },
  {
   "cell_type": "code",
   "execution_count": null,
   "metadata": {},
   "outputs": [],
   "source": []
  }
 ],
 "metadata": {
  "kernelspec": {
   "display_name": "Python 3",
   "language": "python",
   "name": "python3"
  },
  "language_info": {
   "codemirror_mode": {
    "name": "ipython",
    "version": 3
   },
   "file_extension": ".py",
   "mimetype": "text/x-python",
   "name": "python",
   "nbconvert_exporter": "python",
   "pygments_lexer": "ipython3",
   "version": "3.6.9"
  }
 },
 "nbformat": 4,
 "nbformat_minor": 2
}
