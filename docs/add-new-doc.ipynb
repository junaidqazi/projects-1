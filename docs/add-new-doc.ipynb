{
 "cells": [
  {
   "cell_type": "markdown",
   "metadata": {},
   "source": [
    "# Add new documentation\n",
    "\n",
    "Let say you created a jupyter notebook and you want to publish it in Malaysia AI Projects readthedocs."
   ]
  },
  {
   "cell_type": "markdown",
   "metadata": {},
   "source": [
    "## Add in docs\n",
    "\n",
    "1. Add your notebook in [docs](https://github.com/malaysia-ai/projects/tree/master/docs) directory.\n",
    "2. Add your notebook filename in [docs/index.rst](https://github.com/malaysia-ai/projects/blob/master/docs/index.rst) without the extension name."
   ]
  },
  {
   "cell_type": "markdown",
   "metadata": {},
   "source": [
    "## Generate readthedocs locally\n",
    "\n",
    "Go to [docs](https://github.com/malaysia-ai/projects/tree/master/docs) directory and run,\n",
    "\n",
    "```bash\n",
    "bash generate\n",
    "```\n",
    "\n",
    "It will generate readthedocs in [docs/_build](#)."
   ]
  }
 ],
 "metadata": {
  "kernelspec": {
   "display_name": "Python 3",
   "language": "python",
   "name": "python3"
  },
  "language_info": {
   "codemirror_mode": {
    "name": "ipython",
    "version": 3
   },
   "file_extension": ".py",
   "mimetype": "text/x-python",
   "name": "python",
   "nbconvert_exporter": "python",
   "pygments_lexer": "ipython3",
   "version": "3.7.7"
  }
 },
 "nbformat": 4,
 "nbformat_minor": 4
}
